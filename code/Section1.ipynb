{
 "cells": [
  {
   "cell_type": "markdown",
   "id": "7ef88004",
   "metadata": {},
   "source": [
    "# Julia基本用法\n",
    "## 数据类型\n",
    "此处列举在julia中定义的几种常用数据类型，整数型（默认Int64）、浮点数型（默认Float64）、bool型、复数型、有理数型、字符串型"
   ]
  },
  {
   "cell_type": "code",
   "execution_count": 29,
   "id": "c0fb8209",
   "metadata": {},
   "outputs": [
    {
     "data": {
      "text/plain": [
       "Complex{Int64}"
      ]
     },
     "execution_count": 29,
     "metadata": {},
     "output_type": "execute_result"
    }
   ],
   "source": [
    "var1 = 4 #整数型\n",
    "var2 = 1.4 #浮点数型\n",
    "var3 = true #bool型\n",
    "var4 = 1+4im #复数型\n",
    "var5 = 3//6 #有理数型\n",
    "var6 = \"Hello world !\" #字符串型\n",
    "typeof(var4)# typeof() 函数查看某个变量类型，例如查看变量var6的数据类型"
   ]
  },
  {
   "cell_type": "markdown",
   "id": "66cbf43e",
   "metadata": {},
   "source": [
    "通过科学计数法来定义类型"
   ]
  },
  {
   "cell_type": "code",
   "execution_count": 21,
   "id": "85d585b5",
   "metadata": {},
   "outputs": [
    {
     "data": {
      "text/plain": [
       "100000.0"
      ]
     },
     "execution_count": 21,
     "metadata": {},
     "output_type": "execute_result"
    }
   ],
   "source": [
    "var7 = 1e5"
   ]
  },
  {
   "cell_type": "markdown",
   "id": "79d5df20",
   "metadata": {},
   "source": [
    "有理数型会自动约分"
   ]
  },
  {
   "cell_type": "code",
   "execution_count": 9,
   "id": "ec6e4ca9",
   "metadata": {},
   "outputs": [
    {
     "data": {
      "text/plain": [
       "1//2"
      ]
     },
     "execution_count": 9,
     "metadata": {},
     "output_type": "execute_result"
    }
   ],
   "source": [
    "3//6"
   ]
  },
  {
   "cell_type": "markdown",
   "id": "2d785e7b",
   "metadata": {},
   "source": [
    "也可以显式定义变量类型 (如非必要，减少使用静态数据类型)"
   ]
  },
  {
   "cell_type": "code",
   "execution_count": 50,
   "id": "84aa0b1a",
   "metadata": {},
   "outputs": [
    {
     "data": {
      "text/plain": [
       "Float32"
      ]
     },
     "execution_count": 50,
     "metadata": {},
     "output_type": "execute_result"
    }
   ],
   "source": [
    "var8 = Float64(3.3)\n",
    "var9 = Float32(3.3)\n",
    "typeof(var9)"
   ]
  },
  {
   "cell_type": "markdown",
   "id": "5fe6d3e2",
   "metadata": {},
   "source": [
    "指数运算 ^\n",
    "<br>\n",
    "复数取共轭 conj()"
   ]
  },
  {
   "cell_type": "code",
   "execution_count": 69,
   "id": "9cce4434",
   "metadata": {},
   "outputs": [
    {
     "name": "stdout",
     "output_type": "stream",
     "text": [
      "1024\n",
      "3 - 4im"
     ]
    }
   ],
   "source": [
    "print(2^10,\"\\n\",conj(3+4im))"
   ]
  },
  {
   "cell_type": "markdown",
   "id": "e80fd09a",
   "metadata": {},
   "source": [
    "## 数组（Array）\n",
    "在julia中，存储运算大量数据通常通过数组这一类型变量进行，一般地，定义一个数组使用\n",
    "<br>\n",
    "Array{Type,Dimension}()函数，其中Type是数组中数据的类型，Dimension是数组的维数,可缺省。\n",
    "<br>\n",
    "如定义一个4x3的复矩阵"
   ]
  },
  {
   "cell_type": "code",
   "execution_count": 54,
   "id": "bfae87bd",
   "metadata": {},
   "outputs": [
    {
     "data": {
      "text/plain": [
       "4×3 Matrix{Float64}:\n",
       " 6.93465e-310  6.93465e-310  6.93465e-310\n",
       " 6.93465e-310  6.93465e-310  6.93465e-310\n",
       " 6.93465e-310  6.93465e-310  6.93465e-310\n",
       " 6.93465e-310  6.93465e-310  6.93466e-310"
      ]
     },
     "execution_count": 54,
     "metadata": {},
     "output_type": "execute_result"
    }
   ],
   "source": [
    "Mat1 = Array{ComplexF64,2}(undef,4,3)#花括号中ComplexF64代表Float64构成的复数，圆括号中第一个变量是初值，undef为随机分配初值，后面的4和3分别代表行数与列数\n",
    "Mat2 = Array{Float64}(undef,4,3)"
   ]
  },
  {
   "cell_type": "code",
   "execution_count": 55,
   "id": "a4e3bcfe",
   "metadata": {
    "scrolled": true
   },
   "outputs": [
    {
     "data": {
      "text/plain": [
       "4×3 Matrix{Union{Missing, ComplexF64}}:\n",
       " missing  missing  missing\n",
       " missing  missing  missing\n",
       " missing  missing  missing\n",
       " missing  missing  missing"
      ]
     },
     "execution_count": 55,
     "metadata": {},
     "output_type": "execute_result"
    }
   ],
   "source": [
    "Mat3 = Array{Union{Missing,ComplexF64}}(missing,4,3)#初值也可赋为missing"
   ]
  },
  {
   "cell_type": "markdown",
   "id": "2c6675d1",
   "metadata": {},
   "source": [
    "常用的初值矩阵可用如下几个函数定义：\n",
    "<br>\n",
    "1. ones() 所有元素初值为1\n",
    "2. zeros() 所有元素初值为0\n",
    "3. rand() 所有元素为0-1的随机数"
   ]
  },
  {
   "cell_type": "code",
   "execution_count": 51,
   "id": "ad13523b",
   "metadata": {},
   "outputs": [
    {
     "data": {
      "text/plain": [
       "4×7 Matrix{Float64}:\n",
       " 0.51002   0.790329  0.603015  0.135097   0.463799  0.65435   0.405808\n",
       " 0.296736  0.382992  0.017665  0.0389416  0.458599  0.680139  0.588871\n",
       " 0.696319  0.390714  0.782442  0.135574   0.168493  0.564841  0.9639\n",
       " 0.651901  0.617858  0.349564  0.522479   0.798723  0.467362  0.526742"
      ]
     },
     "execution_count": 51,
     "metadata": {},
     "output_type": "execute_result"
    }
   ],
   "source": [
    "Mat3 = ones(5,5)\n",
    "Mat4 = zeros(6,4)\n",
    "Mat5 = rand(4,7)"
   ]
  },
  {
   "cell_type": "markdown",
   "id": "66837e05",
   "metadata": {},
   "source": [
    "单位矩阵可通过导入 LinearAlgebra 包定义\n",
    "<br>\n",
    "Matrix{Type}(I,row,rank)"
   ]
  },
  {
   "cell_type": "code",
   "execution_count": 53,
   "id": "1d12ea2b",
   "metadata": {},
   "outputs": [
    {
     "data": {
      "text/plain": [
       "4×6 Matrix{Float64}:\n",
       " 1.0  0.0  0.0  0.0  0.0  0.0\n",
       " 0.0  1.0  0.0  0.0  0.0  0.0\n",
       " 0.0  0.0  1.0  0.0  0.0  0.0\n",
       " 0.0  0.0  0.0  1.0  0.0  0.0"
      ]
     },
     "execution_count": 53,
     "metadata": {},
     "output_type": "execute_result"
    }
   ],
   "source": [
    "using LinearAlgebra\n",
    "Matrix{Float64}(I,4,6)"
   ]
  },
  {
   "cell_type": "markdown",
   "id": "780b3d20",
   "metadata": {},
   "source": [
    "## 矩阵运算及一些常用操作\n",
    "矩阵加法减法只需要两个矩阵维数相同即可\n",
    "<br>\n",
    "矩阵乘法 A*B 需要A的列与B的行相同\n",
    "<br>\n",
    "矩阵除法 $$A/B = A*B^{-1}$$\n",
    "需要A的列与B的列相同"
   ]
  },
  {
   "cell_type": "code",
   "execution_count": 72,
   "id": "7ca50d6c",
   "metadata": {},
   "outputs": [
    {
     "data": {
      "text/plain": [
       "7×3 Matrix{Float64}:\n",
       " 0.0413633  2.14257  0.14109\n",
       " 0.0413633  2.14257  0.14109\n",
       " 0.0413633  2.14257  0.14109\n",
       " 0.0413633  2.14257  0.14109\n",
       " 0.0413633  2.14257  0.14109\n",
       " 0.0413633  2.14257  0.14109\n",
       " 0.0413633  2.14257  0.14109"
      ]
     },
     "execution_count": 72,
     "metadata": {},
     "output_type": "execute_result"
    }
   ],
   "source": [
    "Mat1 = ones(4,5)+rand(4,5)\n",
    "Mat2 = ones(4,5)-rand(4,5)\n",
    "Mat3 = ones(7,5)*rand(5,3)\n",
    "Mat4 = ones(7,5)/rand(3,5)"
   ]
  },
  {
   "cell_type": "markdown",
   "id": "075ba116",
   "metadata": {},
   "source": [
    "结合广播算符（fused broadcasting operator）/或称 dot call\n",
    "<br>\n",
    "对于每个二元算符都有对应结合广播算符"
   ]
  },
  {
   "cell_type": "code",
   "execution_count": 2,
   "id": "61894183",
   "metadata": {},
   "outputs": [
    {
     "data": {
      "text/plain": [
       "4×5 Matrix{Float64}:\n",
       " 0.620528  0.808866  0.925746  0.456114  0.403386\n",
       " 0.571615  0.16892   0.792767  0.470652  0.595126\n",
       " 0.832963  0.580344  0.879369  0.882266  0.996824\n",
       " 0.991316  0.945705  0.976998  0.95068   0.268059"
      ]
     },
     "execution_count": 2,
     "metadata": {},
     "output_type": "execute_result"
    }
   ],
   "source": [
    "Mat5 = rand(4,5).*rand(4,5)\n",
    "Mat6 = rand(4,5).^rand(4,5)"
   ]
  },
  {
   "cell_type": "markdown",
   "id": "1c6fd6d4",
   "metadata": {},
   "source": [
    "宏 @. expr 将表达式中所有函数都转化为dot call"
   ]
  },
  {
   "cell_type": "code",
   "execution_count": 13,
   "id": "9eccdd01",
   "metadata": {},
   "outputs": [
    {
     "data": {
      "text/plain": [
       "3-element Vector{Float64}:\n",
       " 6.92463467891766e-310\n",
       " 6.9246346790054e-310\n",
       " 6.9246325480869e-310"
      ]
     },
     "execution_count": 13,
     "metadata": {},
     "output_type": "execute_result"
    }
   ],
   "source": [
    "x=1.0:3.0; y=similar(x)"
   ]
  },
  {
   "cell_type": "code",
   "execution_count": 24,
   "id": "19710ff2",
   "metadata": {},
   "outputs": [
    {
     "data": {
      "text/plain": [
       "3-element Vector{Float64}:\n",
       " 3.5244129544236893\n",
       " 4.727892280477045\n",
       " 3.4233600241796016"
      ]
     },
     "execution_count": 24,
     "metadata": {},
     "output_type": "execute_result"
    }
   ],
   "source": [
    "@. y= x+3*sin(x)"
   ]
  },
  {
   "cell_type": "markdown",
   "id": "6a63f9eb",
   "metadata": {},
   "source": [
    "### LinearAlgebra库\n",
    "使用LinearAlgebra中dot函数计算两个向量的内积（点积）"
   ]
  },
  {
   "cell_type": "code",
   "execution_count": 27,
   "id": "7193be34",
   "metadata": {},
   "outputs": [
    {
     "data": {
      "text/plain": [
       "2.045945111809508"
      ]
     },
     "execution_count": 27,
     "metadata": {},
     "output_type": "execute_result"
    }
   ],
   "source": [
    "dot(rand(5),rand(5))"
   ]
  },
  {
   "cell_type": "markdown",
   "id": "6bce3ac3",
   "metadata": {},
   "source": [
    "如果dot(x,y)中变量为复数，则会输出\n",
    "$$ x^\\star \\cdot y$$"
   ]
  },
  {
   "cell_type": "code",
   "execution_count": 33,
   "id": "d41ead29",
   "metadata": {},
   "outputs": [
    {
     "data": {
      "text/plain": [
       "5-element Vector{ComplexF64}:\n",
       "  0.5553158462580637 + 0.4080977035786577im\n",
       "   0.815726643350133 + 0.1817877452806942im\n",
       "  0.2908366669333948 + 0.842348619983765im\n",
       " 0.04371263227814093 + 0.7534567281148052im\n",
       "  0.9301461069920232 + 0.5505071717047341im"
      ]
     },
     "execution_count": 33,
     "metadata": {},
     "output_type": "execute_result"
    }
   ],
   "source": [
    "a = rand(ComplexF64,5)\n",
    "b = rand(ComplexF64,5)"
   ]
  },
  {
   "cell_type": "code",
   "execution_count": 34,
   "id": "bc6d9bf5",
   "metadata": {},
   "outputs": [
    {
     "data": {
      "text/plain": [
       "2.160778666277288 - 0.3067941603560356im"
      ]
     },
     "execution_count": 34,
     "metadata": {},
     "output_type": "execute_result"
    }
   ],
   "source": [
    "dot(a,b)"
   ]
  },
  {
   "cell_type": "code",
   "execution_count": 37,
   "id": "b4ca4723",
   "metadata": {},
   "outputs": [
    {
     "data": {
      "text/plain": [
       "2.160778666277288 - 0.3067941603560355im"
      ]
     },
     "execution_count": 37,
     "metadata": {},
     "output_type": "execute_result"
    }
   ],
   "source": [
    "sum(conj(a).*b)"
   ]
  },
  {
   "cell_type": "markdown",
   "id": "a505346d",
   "metadata": {},
   "source": [
    "向量叉乘"
   ]
  },
  {
   "cell_type": "code",
   "execution_count": 52,
   "id": "28a77b3b",
   "metadata": {},
   "outputs": [
    {
     "data": {
      "text/plain": [
       "3-element Vector{Int64}:\n",
       "  0\n",
       "  0\n",
       " -1"
      ]
     },
     "execution_count": 52,
     "metadata": {},
     "output_type": "execute_result"
    }
   ],
   "source": [
    "cross([0,1,0],[1,0,0])"
   ]
  },
  {
   "cell_type": "markdown",
   "id": "41c6fe5a",
   "metadata": {},
   "source": [
    "求矩阵本征值与本征向量"
   ]
  },
  {
   "cell_type": "code",
   "execution_count": 40,
   "id": "cd257531",
   "metadata": {},
   "outputs": [
    {
     "data": {
      "text/plain": [
       "5-element Vector{ComplexF64}:\n",
       " -0.6162873041815338 + 0.0im\n",
       " 0.14114067777420836 - 0.33284267485866076im\n",
       " 0.14114067777420836 + 0.33284267485866076im\n",
       "  0.6244598885850129 + 0.0im\n",
       "   2.756555898369448 + 0.0im"
      ]
     },
     "execution_count": 40,
     "metadata": {},
     "output_type": "execute_result"
    }
   ],
   "source": [
    "A = rand(5,5)\n",
    "eigvals(A)"
   ]
  },
  {
   "cell_type": "code",
   "execution_count": 41,
   "id": "faf37448",
   "metadata": {},
   "outputs": [
    {
     "data": {
      "text/plain": [
       "5×5 Matrix{ComplexF64}:\n",
       "   0.728941+0.0im  …   -0.619748+0.0im  0.353761+0.0im\n",
       "  -0.649687+0.0im      -0.208456+0.0im  0.409107+0.0im\n",
       "  -0.045982+0.0im     -0.0687021+0.0im   0.48641+0.0im\n",
       "   0.207944+0.0im       0.669445+0.0im  0.332245+0.0im\n",
       " -0.0345963+0.0im       0.345807+0.0im  0.600419+0.0im"
      ]
     },
     "execution_count": 41,
     "metadata": {},
     "output_type": "execute_result"
    }
   ],
   "source": [
    "eigvecs(A)"
   ]
  },
  {
   "cell_type": "code",
   "execution_count": 46,
   "id": "9158bffc",
   "metadata": {},
   "outputs": [
    {
     "data": {
      "text/plain": [
       "5-element Vector{ComplexF64}:\n",
       "   0.7289412730054067 + 0.0im\n",
       "  -0.6496866409892732 + 0.0im\n",
       " -0.04598204995622316 + 0.0im\n",
       "  0.20794382170098383 + 0.0im\n",
       " -0.03459634558078485 + 0.0im"
      ]
     },
     "execution_count": 46,
     "metadata": {},
     "output_type": "execute_result"
    }
   ],
   "source": [
    "val1 = eigvals(A)[1]\n",
    "vec1 = eigvecs(A)[:,1]"
   ]
  },
  {
   "cell_type": "code",
   "execution_count": 47,
   "id": "bde28c94",
   "metadata": {},
   "outputs": [
    {
     "data": {
      "text/plain": [
       "5-element Vector{ComplexF64}:\n",
       "     0.728941273005407 - 0.0im\n",
       "    -0.649686640989271 - 0.0im\n",
       "  -0.04598204995622259 - 0.0im\n",
       "   0.20794382170098422 - 0.0im\n",
       " -0.034596345580784046 - 0.0im"
      ]
     },
     "execution_count": 47,
     "metadata": {},
     "output_type": "execute_result"
    }
   ],
   "source": [
    "A* vec1/val1"
   ]
  },
  {
   "cell_type": "markdown",
   "id": "edfa6b09",
   "metadata": {},
   "source": [
    "求矩阵的逆"
   ]
  },
  {
   "cell_type": "code",
   "execution_count": 48,
   "id": "0f0695b5",
   "metadata": {},
   "outputs": [
    {
     "data": {
      "text/plain": [
       "5×5 Matrix{Float64}:\n",
       " -1.27515    -1.91131   -0.0551419  -6.24244     5.76631\n",
       "  0.917836   -0.697624  -0.504281   -0.312028    0.762929\n",
       "  0.636997    1.51187    0.585677    2.48617    -2.96176\n",
       "  0.0199354   1.84096   -0.44066     3.51992    -2.65615\n",
       " -0.460158   -0.65044    0.812143    0.0917187   0.368398"
      ]
     },
     "execution_count": 48,
     "metadata": {},
     "output_type": "execute_result"
    }
   ],
   "source": [
    "inv(A)"
   ]
  },
  {
   "cell_type": "code",
   "execution_count": 49,
   "id": "ec1ed057",
   "metadata": {},
   "outputs": [
    {
     "data": {
      "text/plain": [
       "5×5 Matrix{Float64}:\n",
       "  1.0           2.98372e-16  1.38778e-17   1.79544e-16  -4.71845e-16\n",
       "  1.43982e-16   1.0          5.37764e-17  -4.6187e-17   -1.05645e-15\n",
       "  5.55112e-17   0.0          1.0          -4.996e-16    -5.55112e-17\n",
       "  1.11022e-16  -1.11022e-16  0.0           1.0          -2.498e-16\n",
       " -1.11022e-16  -1.11022e-16  1.11022e-16  -4.996e-16     1.0"
      ]
     },
     "execution_count": 49,
     "metadata": {},
     "output_type": "execute_result"
    }
   ],
   "source": [
    "A*inv(A)"
   ]
  },
  {
   "cell_type": "code",
   "execution_count": 53,
   "id": "80d00ea6",
   "metadata": {},
   "outputs": [
    {
     "data": {
      "text/plain": [
       "5×5 transpose(::Matrix{Float64}) with eltype Float64:\n",
       " 0.30602    0.755614   0.445033  0.179832   0.690488\n",
       " 0.990775   0.394249   0.379185  0.558988   0.958548\n",
       " 0.811488   0.931598   0.965574  0.0242772  0.523756\n",
       " 0.0552738  0.716658   0.11833   0.617786   0.919697\n",
       " 0.0807629  0.0131324  0.864853  0.676997   0.763381"
      ]
     },
     "execution_count": 53,
     "metadata": {},
     "output_type": "execute_result"
    }
   ],
   "source": [
    "det(A) #求A的本征值\n",
    "tr(A) #求A的迹\n",
    "transpose(A) #对A转置"
   ]
  },
  {
   "cell_type": "markdown",
   "id": "6c579e41",
   "metadata": {},
   "source": [
    "## 逻辑运算"
   ]
  },
  {
   "cell_type": "code",
   "execution_count": 56,
   "id": "49367c8b",
   "metadata": {},
   "outputs": [
    {
     "data": {
      "text/plain": [
       "true"
      ]
     },
     "execution_count": 56,
     "metadata": {},
     "output_type": "execute_result"
    }
   ],
   "source": [
    "x= true\n",
    "y = false\n",
    "!x #非运算符，true->false, false->true\n",
    "x && y #与运算符，当两个表达式都为true时返回true,否则返回false\n",
    "x || y #或运算符，当两个表达式都为false时返回false,否则返回true"
   ]
  },
  {
   "cell_type": "markdown",
   "id": "32b3f41f",
   "metadata": {},
   "source": [
    "判断语句"
   ]
  },
  {
   "cell_type": "code",
   "execution_count": 57,
   "id": "55368a46",
   "metadata": {},
   "outputs": [
    {
     "data": {
      "text/plain": [
       "false"
      ]
     },
     "execution_count": 57,
     "metadata": {},
     "output_type": "execute_result"
    }
   ],
   "source": [
    "x = 4\n",
    "y = 7\n",
    "x == y #等于判断\n",
    "x != y #不等于判断\n",
    "x < y #小于判断\n",
    "x > y #大于判断\n",
    "x <= y #小于等于判断\n",
    "x >= y #大于等于判断"
   ]
  },
  {
   "cell_type": "code",
   "execution_count": 64,
   "id": "b3fdcfa7",
   "metadata": {},
   "outputs": [
    {
     "data": {
      "text/plain": [
       "true"
      ]
     },
     "execution_count": 64,
     "metadata": {},
     "output_type": "execute_result"
    }
   ],
   "source": [
    "x = Inf #Infinity\n",
    "y = NaN #Not a Number\n",
    "z = NaN\n",
    "isequal(y,z) #判断y与z是否同一"
   ]
  },
  {
   "cell_type": "code",
   "execution_count": 65,
   "id": "63f924a4",
   "metadata": {},
   "outputs": [
    {
     "data": {
      "text/plain": [
       "false"
      ]
     },
     "execution_count": 65,
     "metadata": {},
     "output_type": "execute_result"
    }
   ],
   "source": [
    "z == y"
   ]
  },
  {
   "cell_type": "code",
   "execution_count": 66,
   "id": "987b4062",
   "metadata": {},
   "outputs": [
    {
     "data": {
      "text/plain": [
       "true"
      ]
     },
     "execution_count": 66,
     "metadata": {},
     "output_type": "execute_result"
    }
   ],
   "source": [
    "isinf(x) #判断是否是无穷大\n",
    "isfinite(x) #判断是否是有限数"
   ]
  },
  {
   "cell_type": "markdown",
   "id": "80934610",
   "metadata": {},
   "source": [
    "? 表达式，  expression ? value1 : value2\n",
    "<br>\n",
    "判断表达式是否为真，如果为真返回value1， 否则返回value2"
   ]
  },
  {
   "cell_type": "code",
   "execution_count": 68,
   "id": "b9de3ffc",
   "metadata": {},
   "outputs": [
    {
     "data": {
      "text/plain": [
       "5"
      ]
     },
     "execution_count": 68,
     "metadata": {},
     "output_type": "execute_result"
    }
   ],
   "source": [
    "x > y ? 3 : 5"
   ]
  },
  {
   "cell_type": "markdown",
   "id": "8ae92645",
   "metadata": {},
   "source": [
    "## 字符串常用操作"
   ]
  },
  {
   "cell_type": "code",
   "execution_count": 76,
   "id": "68af9109",
   "metadata": {},
   "outputs": [
    {
     "data": {
      "text/plain": [
       "\"Happy birthday!\""
      ]
     },
     "execution_count": 76,
     "metadata": {},
     "output_type": "execute_result"
    }
   ],
   "source": [
    "a = \"Hello world!\"\n",
    "b = \"Happy birthday!\""
   ]
  },
  {
   "cell_type": "markdown",
   "id": "18449e9b",
   "metadata": {},
   "source": [
    "对字符串中元素的索引"
   ]
  },
  {
   "cell_type": "code",
   "execution_count": 83,
   "id": "0fe5b2d8",
   "metadata": {},
   "outputs": [
    {
     "data": {
      "text/plain": [
       "'!': ASCII/Unicode U+0021 (category Po: Punctuation, other)"
      ]
     },
     "execution_count": 83,
     "metadata": {},
     "output_type": "execute_result"
    }
   ],
   "source": [
    "lastindex(a) #字符串最后一个下标\n",
    "firstindex(a) #字符串第一个下标\n",
    "a[2:7] #索引弟2-7个元素\n",
    "a[begin] #索引第一个元素\n",
    "a[end] #索引最后一个元素"
   ]
  },
  {
   "cell_type": "code",
   "execution_count": 84,
   "id": "3f4ca9e2",
   "metadata": {},
   "outputs": [
    {
     "data": {
      "text/plain": [
       "'d': ASCII/Unicode U+0064 (category Ll: Letter, lowercase)"
      ]
     },
     "execution_count": 84,
     "metadata": {},
     "output_type": "execute_result"
    }
   ],
   "source": [
    "a[end-1]"
   ]
  },
  {
   "cell_type": "code",
   "execution_count": 95,
   "id": "af10ee1e",
   "metadata": {},
   "outputs": [
    {
     "data": {
      "text/plain": [
       "\"Hello world! Happy birthday!\""
      ]
     },
     "execution_count": 95,
     "metadata": {},
     "output_type": "execute_result"
    }
   ],
   "source": [
    "string(a,' ',b) #拼接a b两个字符串\n",
    "a*' '*b #另一种方式拼接两个字符串"
   ]
  },
  {
   "cell_type": "markdown",
   "id": "54d81a9d",
   "metadata": {},
   "source": [
    "在字符串中对变量进行引用"
   ]
  },
  {
   "cell_type": "code",
   "execution_count": 96,
   "id": "160c86b1",
   "metadata": {},
   "outputs": [
    {
     "data": {
      "text/plain": [
       "\"Brown\""
      ]
     },
     "execution_count": 96,
     "metadata": {},
     "output_type": "execute_result"
    }
   ],
   "source": [
    "age = 50\n",
    "name = \"Brown\""
   ]
  },
  {
   "cell_type": "code",
   "execution_count": 97,
   "id": "b39216d8",
   "metadata": {},
   "outputs": [
    {
     "data": {
      "text/plain": [
       "\"My name is Brown, I'm 50 years old now!\""
      ]
     },
     "execution_count": 97,
     "metadata": {},
     "output_type": "execute_result"
    }
   ],
   "source": [
    "\"My name is $name, I'm $age years old now!\" #在字符串中通过$var来引用变量"
   ]
  },
  {
   "cell_type": "code",
   "execution_count": 106,
   "id": "b07b4c46",
   "metadata": {},
   "outputs": [
    {
     "data": {
      "text/plain": [
       "\"I have \\$100\""
      ]
     },
     "execution_count": 106,
     "metadata": {},
     "output_type": "execute_result"
    }
   ],
   "source": [
    "\"I have \\$100\" #在字符串中输出$需要在前面添加\\作为反转译字符"
   ]
  },
  {
   "cell_type": "code",
   "execution_count": 108,
   "id": "5d9bb46f",
   "metadata": {},
   "outputs": [
    {
     "name": "stdout",
     "output_type": "stream",
     "text": [
      "I have $100"
     ]
    }
   ],
   "source": [
    "print(\"I have \\$100\") # 在print函数中显示正常"
   ]
  },
  {
   "cell_type": "code",
   "execution_count": 110,
   "id": "f86ebea4",
   "metadata": {},
   "outputs": [
    {
     "data": {
      "text/plain": [
       "\"Julia is a programming languages\""
      ]
     },
     "execution_count": 110,
     "metadata": {},
     "output_type": "execute_result"
    }
   ],
   "source": [
    "Word = \"Python is a programming language\"\n",
    "replace(Word,\"Python\"=>\"Julia\",\"language\"=>\"languages\")"
   ]
  },
  {
   "cell_type": "markdown",
   "id": "2ff58868",
   "metadata": {},
   "source": [
    "对字符串进行切割"
   ]
  },
  {
   "cell_type": "code",
   "execution_count": 111,
   "id": "04ee83fd",
   "metadata": {},
   "outputs": [
    {
     "data": {
      "text/plain": [
       "\"here,you,are,my,there\""
      ]
     },
     "execution_count": 111,
     "metadata": {},
     "output_type": "execute_result"
    }
   ],
   "source": [
    "a = \"here,you,are,my,there\""
   ]
  },
  {
   "cell_type": "code",
   "execution_count": 112,
   "id": "0b60822f",
   "metadata": {},
   "outputs": [
    {
     "data": {
      "text/plain": [
       "5-element Vector{SubString{String}}:\n",
       " \"here\"\n",
       " \"you\"\n",
       " \"are\"\n",
       " \"my\"\n",
       " \"there\""
      ]
     },
     "execution_count": 112,
     "metadata": {},
     "output_type": "execute_result"
    }
   ],
   "source": [
    "split(a,',') #split(string,sep)"
   ]
  },
  {
   "cell_type": "markdown",
   "id": "508ac9b9",
   "metadata": {},
   "source": [
    "对字符串进行修饰（去除字符串收尾多余的内容）"
   ]
  },
  {
   "cell_type": "code",
   "execution_count": 113,
   "id": "9e73c7bc",
   "metadata": {},
   "outputs": [
    {
     "data": {
      "text/plain": [
       "\"[this is my house! \\n]\""
      ]
     },
     "execution_count": 113,
     "metadata": {},
     "output_type": "execute_result"
    }
   ],
   "source": [
    "a = \"[this is my house! \\n]\""
   ]
  },
  {
   "cell_type": "code",
   "execution_count": 115,
   "id": "8e6c290b",
   "metadata": {},
   "outputs": [
    {
     "data": {
      "text/plain": [
       "\"this is my house! \""
      ]
     },
     "execution_count": 115,
     "metadata": {},
     "output_type": "execute_result"
    }
   ],
   "source": [
    "strip(a,['[',']','\\n'])"
   ]
  },
  {
   "cell_type": "markdown",
   "id": "532211c5",
   "metadata": {},
   "source": [
    "## 函数"
   ]
  },
  {
   "cell_type": "markdown",
   "id": "e2e8eb2f",
   "metadata": {},
   "source": [
    "定义一个函数"
   ]
  },
  {
   "cell_type": "code",
   "execution_count": 119,
   "id": "6fce1d7e",
   "metadata": {},
   "outputs": [
    {
     "data": {
      "text/plain": [
       "foo (generic function with 1 method)"
      ]
     },
     "execution_count": 119,
     "metadata": {},
     "output_type": "execute_result"
    }
   ],
   "source": [
    "function foo(x,y)\n",
    "    x = y*20\n",
    "    y = x+2\n",
    "    x,y\n",
    "end"
   ]
  },
  {
   "cell_type": "code",
   "execution_count": 122,
   "id": "6db80235",
   "metadata": {},
   "outputs": [
    {
     "data": {
      "text/plain": [
       "(100, 102)"
      ]
     },
     "execution_count": 122,
     "metadata": {},
     "output_type": "execute_result"
    }
   ],
   "source": [
    "x_out,y_out = foo(4,5)"
   ]
  },
  {
   "cell_type": "markdown",
   "id": "c7f55fb7",
   "metadata": {},
   "source": [
    "一种更简单的语法定义函数"
   ]
  },
  {
   "cell_type": "code",
   "execution_count": 128,
   "id": "1416deb0",
   "metadata": {},
   "outputs": [
    {
     "data": {
      "text/plain": [
       "foo1 (generic function with 1 method)"
      ]
     },
     "execution_count": 128,
     "metadata": {},
     "output_type": "execute_result"
    }
   ],
   "source": [
    "foo1(x) = 4x+2"
   ]
  },
  {
   "cell_type": "code",
   "execution_count": 129,
   "id": "071942c2",
   "metadata": {},
   "outputs": [
    {
     "data": {
      "text/plain": [
       "14"
      ]
     },
     "execution_count": 129,
     "metadata": {},
     "output_type": "execute_result"
    }
   ],
   "source": [
    "foo1(3)"
   ]
  },
  {
   "cell_type": "code",
   "execution_count": 130,
   "id": "5d77d9a0",
   "metadata": {},
   "outputs": [
    {
     "data": {
      "text/plain": [
       "foo2 (generic function with 2 methods)"
      ]
     },
     "execution_count": 130,
     "metadata": {},
     "output_type": "execute_result"
    }
   ],
   "source": [
    "foo2(x,y) = x^4+8,y^3 #定义多变量函数"
   ]
  },
  {
   "cell_type": "code",
   "execution_count": 131,
   "id": "f6c391ab",
   "metadata": {},
   "outputs": [
    {
     "data": {
      "text/plain": [
       "(810008, 27000)"
      ]
     },
     "execution_count": 131,
     "metadata": {},
     "output_type": "execute_result"
    }
   ],
   "source": [
    "foo2(30,30)"
   ]
  },
  {
   "cell_type": "markdown",
   "id": "98ae5024",
   "metadata": {},
   "source": [
    "### 函数返回值"
   ]
  },
  {
   "cell_type": "code",
   "execution_count": 132,
   "id": "e73e3b44",
   "metadata": {},
   "outputs": [
    {
     "data": {
      "text/plain": [
       "foo3 (generic function with 1 method)"
      ]
     },
     "execution_count": 132,
     "metadata": {},
     "output_type": "execute_result"
    }
   ],
   "source": [
    "function foo3(x)\n",
    "    return x^3\n",
    "    x^2\n",
    "end"
   ]
  },
  {
   "cell_type": "code",
   "execution_count": 133,
   "id": "ac595042",
   "metadata": {},
   "outputs": [
    {
     "data": {
      "text/plain": [
       "1000"
      ]
     },
     "execution_count": 133,
     "metadata": {},
     "output_type": "execute_result"
    }
   ],
   "source": [
    "foo3(10)"
   ]
  },
  {
   "cell_type": "markdown",
   "id": "60ec7e06",
   "metadata": {},
   "source": [
    "### 类型声明"
   ]
  },
  {
   "cell_type": "code",
   "execution_count": 134,
   "id": "e555f8f9",
   "metadata": {},
   "outputs": [
    {
     "data": {
      "text/plain": [
       "foo4 (generic function with 1 method)"
      ]
     },
     "execution_count": 134,
     "metadata": {},
     "output_type": "execute_result"
    }
   ],
   "source": [
    "function foo4(x)::Int16  #声明返回值类型\n",
    "    x\n",
    "end"
   ]
  },
  {
   "cell_type": "code",
   "execution_count": 135,
   "id": "32cb1361",
   "metadata": {},
   "outputs": [
    {
     "data": {
      "text/plain": [
       "Int16"
      ]
     },
     "execution_count": 135,
     "metadata": {},
     "output_type": "execute_result"
    }
   ],
   "source": [
    "y = foo4(10)\n",
    "typeof(y)"
   ]
  },
  {
   "cell_type": "code",
   "execution_count": 136,
   "id": "83b81c4c",
   "metadata": {},
   "outputs": [
    {
     "data": {
      "text/plain": [
       "foo5 (generic function with 1 method)"
      ]
     },
     "execution_count": 136,
     "metadata": {},
     "output_type": "execute_result"
    }
   ],
   "source": [
    "function foo5(x::Int64) #声明参数类型\n",
    "    x\n",
    "end"
   ]
  },
  {
   "cell_type": "code",
   "execution_count": 137,
   "id": "5b7436eb",
   "metadata": {},
   "outputs": [
    {
     "ename": "LoadError",
     "evalue": "MethodError: no method matching foo5(::Float64)\n\u001b[0mClosest candidates are:\n\u001b[0m  foo5(\u001b[91m::Int64\u001b[39m) at In[136]:1",
     "output_type": "error",
     "traceback": [
      "MethodError: no method matching foo5(::Float64)\n\u001b[0mClosest candidates are:\n\u001b[0m  foo5(\u001b[91m::Int64\u001b[39m) at In[136]:1",
      "",
      "Stacktrace:",
      " [1] top-level scope",
      "   @ In[137]:1",
      " [2] eval",
      "   @ ./boot.jl:373 [inlined]",
      " [3] include_string(mapexpr::typeof(REPL.softscope), mod::Module, code::String, filename::String)",
      "   @ Base ./loading.jl:1196"
     ]
    }
   ],
   "source": [
    "foo5(6.3)"
   ]
  },
  {
   "cell_type": "markdown",
   "id": "ca267b23",
   "metadata": {},
   "source": [
    "map 函数用法"
   ]
  },
  {
   "cell_type": "code",
   "execution_count": 140,
   "id": "5e5e85d8",
   "metadata": {},
   "outputs": [
    {
     "data": {
      "text/plain": [
       "91-element Vector{Float64}:\n",
       "  6.0\n",
       "  6.4\n",
       "  6.8\n",
       "  7.2\n",
       "  7.6\n",
       "  8.0\n",
       "  8.4\n",
       "  8.8\n",
       "  9.2\n",
       "  9.6\n",
       " 10.0\n",
       " 10.4\n",
       " 10.8\n",
       "  ⋮\n",
       " 37.6\n",
       " 38.0\n",
       " 38.4\n",
       " 38.8\n",
       " 39.2\n",
       " 39.6\n",
       " 40.0\n",
       " 40.4\n",
       " 40.8\n",
       " 41.2\n",
       " 41.6\n",
       " 42.0"
      ]
     },
     "execution_count": 140,
     "metadata": {},
     "output_type": "execute_result"
    }
   ],
   "source": [
    "x_mat = collect(1:0.1:10)\n",
    "map(foo1,x_mat)"
   ]
  },
  {
   "cell_type": "code",
   "execution_count": 141,
   "id": "17a1148d",
   "metadata": {},
   "outputs": [
    {
     "data": {
      "text/plain": [
       "91-element Vector{Float64}:\n",
       "  6.0\n",
       "  6.4\n",
       "  6.8\n",
       "  7.2\n",
       "  7.6\n",
       "  8.0\n",
       "  8.4\n",
       "  8.8\n",
       "  9.2\n",
       "  9.6\n",
       " 10.0\n",
       " 10.4\n",
       " 10.8\n",
       "  ⋮\n",
       " 37.6\n",
       " 38.0\n",
       " 38.4\n",
       " 38.8\n",
       " 39.2\n",
       " 39.6\n",
       " 40.0\n",
       " 40.4\n",
       " 40.8\n",
       " 41.2\n",
       " 41.6\n",
       " 42.0"
      ]
     },
     "execution_count": 141,
     "metadata": {},
     "output_type": "execute_result"
    }
   ],
   "source": [
    "foo1.(x_mat)"
   ]
  },
  {
   "cell_type": "code",
   "execution_count": 142,
   "id": "c5f3617b",
   "metadata": {},
   "outputs": [
    {
     "data": {
      "text/plain": [
       "91-element Vector{Float64}:\n",
       "   7.0\n",
       "   7.840000000000001\n",
       "   8.76\n",
       "   9.760000000000002\n",
       "  10.84\n",
       "  12.0\n",
       "  13.240000000000002\n",
       "  14.559999999999999\n",
       "  15.96\n",
       "  17.439999999999998\n",
       "  19.0\n",
       "  20.64\n",
       "  22.360000000000003\n",
       "   ⋮\n",
       " 319.84000000000003\n",
       " 327.0\n",
       " 334.23999999999995\n",
       " 341.55999999999995\n",
       " 348.96000000000004\n",
       " 356.44000000000005\n",
       " 364.0\n",
       " 371.64\n",
       " 379.35999999999996\n",
       " 387.1600000000001\n",
       " 395.04\n",
       " 403.0"
      ]
     },
     "execution_count": 142,
     "metadata": {},
     "output_type": "execute_result"
    }
   ],
   "source": [
    "map(x->4x^2+3,x_mat)"
   ]
  },
  {
   "cell_type": "markdown",
   "id": "2a8681b4",
   "metadata": {},
   "source": [
    "可选参数"
   ]
  },
  {
   "cell_type": "code",
   "execution_count": 143,
   "id": "27e630f7",
   "metadata": {},
   "outputs": [
    {
     "data": {
      "text/plain": [
       "foo (generic function with 2 methods)"
      ]
     },
     "execution_count": 143,
     "metadata": {},
     "output_type": "execute_result"
    }
   ],
   "source": [
    "function foo(x,y=6)\n",
    "    x+y\n",
    "end"
   ]
  },
  {
   "cell_type": "code",
   "execution_count": 145,
   "id": "fc0f9eba",
   "metadata": {},
   "outputs": [
    {
     "data": {
      "text/plain": [
       "12"
      ]
     },
     "execution_count": 145,
     "metadata": {},
     "output_type": "execute_result"
    }
   ],
   "source": [
    "foo(3)\n",
    "foo(3,9)"
   ]
  },
  {
   "cell_type": "markdown",
   "id": "161728bf",
   "metadata": {},
   "source": [
    "关键字参数 赋值时只能通过关键字进行赋值"
   ]
  },
  {
   "cell_type": "code",
   "execution_count": 146,
   "id": "4a3e5540",
   "metadata": {},
   "outputs": [
    {
     "data": {
      "text/plain": [
       "foo1 (generic function with 1 method)"
      ]
     },
     "execution_count": 146,
     "metadata": {},
     "output_type": "execute_result"
    }
   ],
   "source": [
    "function foo1(x ; y_key_value = 9)\n",
    "    x + y_key_value\n",
    "end"
   ]
  },
  {
   "cell_type": "code",
   "execution_count": 147,
   "id": "33939a8a",
   "metadata": {},
   "outputs": [
    {
     "ename": "LoadError",
     "evalue": "MethodError: no method matching foo1(::Int64, ::Int64)\n\u001b[0mClosest candidates are:\n\u001b[0m  foo1(::Any; y_key_value) at In[146]:1",
     "output_type": "error",
     "traceback": [
      "MethodError: no method matching foo1(::Int64, ::Int64)\n\u001b[0mClosest candidates are:\n\u001b[0m  foo1(::Any; y_key_value) at In[146]:1",
      "",
      "Stacktrace:",
      " [1] top-level scope",
      "   @ In[147]:1",
      " [2] eval",
      "   @ ./boot.jl:373 [inlined]",
      " [3] include_string(mapexpr::typeof(REPL.softscope), mod::Module, code::String, filename::String)",
      "   @ Base ./loading.jl:1196"
     ]
    }
   ],
   "source": [
    "foo1(3,5)"
   ]
  },
  {
   "cell_type": "code",
   "execution_count": 148,
   "id": "d681d820",
   "metadata": {},
   "outputs": [
    {
     "data": {
      "text/plain": [
       "8"
      ]
     },
     "execution_count": 148,
     "metadata": {},
     "output_type": "execute_result"
    }
   ],
   "source": [
    "foo1(3,y_key_value=5)"
   ]
  },
  {
   "cell_type": "markdown",
   "id": "764eb9d3",
   "metadata": {},
   "source": [
    "## 控制流(Control flow)"
   ]
  },
  {
   "cell_type": "markdown",
   "id": "bdfa88a9",
   "metadata": {},
   "source": [
    "begin end 语句"
   ]
  },
  {
   "cell_type": "code",
   "execution_count": 149,
   "id": "335bfe1a",
   "metadata": {},
   "outputs": [
    {
     "data": {
      "text/plain": [
       "7"
      ]
     },
     "execution_count": 149,
     "metadata": {},
     "output_type": "execute_result"
    }
   ],
   "source": [
    "z = begin\n",
    "    x = 3\n",
    "    y = 4\n",
    "    x+y\n",
    "end"
   ]
  },
  {
   "cell_type": "markdown",
   "id": "ddffae25",
   "metadata": {},
   "source": [
    "变量的作用域"
   ]
  },
  {
   "cell_type": "code",
   "execution_count": 150,
   "id": "90375460",
   "metadata": {},
   "outputs": [
    {
     "data": {
      "text/plain": [
       "12"
      ]
     },
     "execution_count": 150,
     "metadata": {},
     "output_type": "execute_result"
    }
   ],
   "source": [
    "begin\n",
    "    local_x = 4\n",
    "    local_y = 8\n",
    "    local_x + local_y\n",
    "end"
   ]
  },
  {
   "cell_type": "markdown",
   "id": "2f4c61e8",
   "metadata": {},
   "source": [
    "if 语句"
   ]
  },
  {
   "cell_type": "code",
   "execution_count": 159,
   "id": "81174ccf",
   "metadata": {},
   "outputs": [
    {
     "name": "stdout",
     "output_type": "stream",
     "text": [
      "x is a positive number"
     ]
    }
   ],
   "source": [
    "x = 15\n",
    "if x >0\n",
    "    print(\"x is a positive number\")\n",
    "elseif x==0\n",
    "    print(\"x is zero\")\n",
    "else\n",
    "    print(\"x is a negtive number\")\n",
    "end"
   ]
  },
  {
   "cell_type": "markdown",
   "id": "91970cec",
   "metadata": {},
   "source": [
    "### While 语句"
   ]
  },
  {
   "cell_type": "code",
   "execution_count": 161,
   "id": "40199985",
   "metadata": {},
   "outputs": [
    {
     "name": "stdout",
     "output_type": "stream",
     "text": [
      "1\n",
      "2\n",
      "3\n",
      "4\n",
      "5\n",
      "6\n",
      "7\n",
      "8\n",
      "9\n",
      "10\n"
     ]
    }
   ],
   "source": [
    "x = 0 \n",
    "while x<10\n",
    "    x = x+1\n",
    "    print(x,\"\\n\")\n",
    "end"
   ]
  },
  {
   "cell_type": "markdown",
   "id": "7636f20f",
   "metadata": {},
   "source": [
    "### break函数用法"
   ]
  },
  {
   "cell_type": "code",
   "execution_count": 162,
   "id": "25762e3c",
   "metadata": {},
   "outputs": [
    {
     "name": "stdout",
     "output_type": "stream",
     "text": [
      "1\n",
      "2\n",
      "3\n",
      "4\n",
      "5\n"
     ]
    }
   ],
   "source": [
    "x = 0\n",
    "while x<10\n",
    "    x = x+1\n",
    "    if x > 5\n",
    "        break\n",
    "    end\n",
    "    print(x,\"\\n\")\n",
    "end"
   ]
  },
  {
   "cell_type": "markdown",
   "id": "0f7cea70",
   "metadata": {},
   "source": [
    "### continue 函数用法"
   ]
  },
  {
   "cell_type": "code",
   "execution_count": 163,
   "id": "aa0bb3aa",
   "metadata": {},
   "outputs": [
    {
     "name": "stdout",
     "output_type": "stream",
     "text": [
      "5\n",
      "6\n",
      "7\n",
      "8\n",
      "9\n",
      "10\n"
     ]
    }
   ],
   "source": [
    "x = 0\n",
    "while x<10\n",
    "    x = x+1\n",
    "    if x<5\n",
    "        continue\n",
    "    end\n",
    "    print(x,\"\\n\")\n",
    "end"
   ]
  },
  {
   "cell_type": "code",
   "execution_count": null,
   "id": "53270e02",
   "metadata": {},
   "outputs": [],
   "source": []
  }
 ],
 "metadata": {
  "kernelspec": {
   "display_name": "Julia 1.7.0-rc1",
   "language": "julia",
   "name": "julia-1.7"
  },
  "language_info": {
   "file_extension": ".jl",
   "mimetype": "application/julia",
   "name": "julia",
   "version": "1.7.0"
  }
 },
 "nbformat": 4,
 "nbformat_minor": 5
}
