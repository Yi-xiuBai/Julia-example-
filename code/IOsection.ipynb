{
 "cells": [
  {
   "cell_type": "markdown",
   "id": "b9b22fb6",
   "metadata": {},
   "source": [
    "# 文件的读取与写入"
   ]
  },
  {
   "cell_type": "code",
   "execution_count": 1,
   "id": "f5f462d1",
   "metadata": {},
   "outputs": [
    {
     "name": "stdout",
     "output_type": "stream",
     "text": [
      "Hello world!"
     ]
    },
    {
     "data": {
      "text/plain": [
       "12"
      ]
     },
     "execution_count": 1,
     "metadata": {},
     "output_type": "execute_result"
    }
   ],
   "source": [
    "write(stdout,\"Hello world!\")"
   ]
  },
  {
   "cell_type": "markdown",
   "id": "102a108c",
   "metadata": {},
   "source": [
    "### open() 函数 <br>\n",
    "### open(filename::AbstractString;lock=true,keywords..)->IOStream <br>\n",
    "the lock keyword argument controls whether operations will be locked for safe multi-threaded access. <br>\n",
    "Mode r->read, <br>\n",
    "w->write,create,truncate（截断文件）<br>\n",
    "a->write,create, append <br>\n",
    "r+->read ,write <br>\n",
    "w+->read,write,create,truncate <br>\n",
    "a+->read,write,create,append"
   ]
  },
  {
   "cell_type": "code",
   "execution_count": 3,
   "id": "80e735b1",
   "metadata": {},
   "outputs": [
    {
     "data": {
      "text/plain": [
       "IOStream(<file Datafile1.txt>)"
      ]
     },
     "execution_count": 3,
     "metadata": {},
     "output_type": "execute_result"
    }
   ],
   "source": [
    "f = open(\"Datafile1.txt\",\"w\") #如果txt文件不在当前文件夹下，文件名使用绝对路径"
   ]
  },
  {
   "cell_type": "code",
   "execution_count": 4,
   "id": "cedf8c1b",
   "metadata": {},
   "outputs": [
    {
     "ename": "LoadError",
     "evalue": "SystemError: opening file \"ReadOnlyFile.txt\": 权限不够",
     "output_type": "error",
     "traceback": [
      "SystemError: opening file \"ReadOnlyFile.txt\": 权限不够",
      "",
      "Stacktrace:",
      " [1] systemerror(p::String, errno::Int32; extrainfo::Nothing)",
      "   @ Base ./error.jl:174",
      " [2] #systemerror#68",
      "   @ ./error.jl:173 [inlined]",
      " [3] systemerror",
      "   @ ./error.jl:173 [inlined]",
      " [4] open(fname::String; lock::Bool, read::Nothing, write::Nothing, create::Nothing, truncate::Nothing, append::Bool)",
      "   @ Base ./iostream.jl:293",
      " [5] open(fname::String, mode::String; lock::Bool)",
      "   @ Base ./iostream.jl:355",
      " [6] open(fname::String, mode::String)",
      "   @ Base ./iostream.jl:355",
      " [7] top-level scope",
      "   @ In[4]:1",
      " [8] eval",
      "   @ ./boot.jl:373 [inlined]",
      " [9] include_string(mapexpr::typeof(REPL.softscope), mod::Module, code::String, filename::String)",
      "   @ Base ./loading.jl:1196"
     ]
    }
   ],
   "source": [
    "f2 = open(\"ReadOnlyFile.txt\",\"a\") #以写的方式打开一个只读文件"
   ]
  },
  {
   "cell_type": "code",
   "execution_count": 5,
   "id": "3e9e7289",
   "metadata": {},
   "outputs": [
    {
     "data": {
      "text/plain": [
       "IOStream(<file ReadOnlyFile.txt>)"
      ]
     },
     "execution_count": 5,
     "metadata": {},
     "output_type": "execute_result"
    }
   ],
   "source": [
    "f2 = open(\"ReadOnlyFile.txt\",\"r\") #以读的方式打开一个只读文件"
   ]
  },
  {
   "cell_type": "markdown",
   "id": "644f5e3e",
   "metadata": {},
   "source": [
    "## write,read,readlines,close\n",
    "将一个字符串写入文件f"
   ]
  },
  {
   "cell_type": "code",
   "execution_count": 6,
   "id": "eeb0438a",
   "metadata": {},
   "outputs": [
    {
     "data": {
      "text/plain": [
       "25"
      ]
     },
     "execution_count": 6,
     "metadata": {},
     "output_type": "execute_result"
    }
   ],
   "source": [
    "write(f,\"Add a line into this file\")"
   ]
  },
  {
   "cell_type": "code",
   "execution_count": 19,
   "id": "76250cba",
   "metadata": {},
   "outputs": [],
   "source": [
    "close(f) #关闭文件f ,仅当f被关闭时写入的内容被保存"
   ]
  },
  {
   "cell_type": "markdown",
   "id": "c8ecc9da",
   "metadata": {},
   "source": [
    "建立一个函数，读取文件并将文件中的字母转化为大写<br>\n",
    "uppercase(string)"
   ]
  },
  {
   "cell_type": "code",
   "execution_count": 27,
   "id": "b93680d7",
   "metadata": {},
   "outputs": [
    {
     "data": {
      "text/plain": [
       "read_and_capital (generic function with 1 method)"
      ]
     },
     "execution_count": 27,
     "metadata": {},
     "output_type": "execute_result"
    }
   ],
   "source": [
    "function read_and_capital(f::IOStream)\n",
    "    return uppercase(read(f,String))\n",
    "end"
   ]
  },
  {
   "cell_type": "code",
   "execution_count": 28,
   "id": "01af901e",
   "metadata": {},
   "outputs": [
    {
     "data": {
      "text/plain": [
       "\"THIS IS A READONLY FILE\\nTHIS IS THE SECOND LINE\\nTHIS IS THE THIRD LINE\\nTHIS IS THE END\\nBY RICHARD\""
      ]
     },
     "execution_count": 28,
     "metadata": {},
     "output_type": "execute_result"
    }
   ],
   "source": [
    "read_and_capital(f2)"
   ]
  },
  {
   "cell_type": "code",
   "execution_count": 29,
   "id": "25dc4fa1",
   "metadata": {},
   "outputs": [
    {
     "data": {
      "text/plain": [
       "\"\""
      ]
     },
     "execution_count": 29,
     "metadata": {},
     "output_type": "execute_result"
    }
   ],
   "source": [
    "read_and_capital(f2)#再次读取发现内容为空"
   ]
  },
  {
   "cell_type": "code",
   "execution_count": 30,
   "id": "4b1dd976",
   "metadata": {},
   "outputs": [
    {
     "data": {
      "text/plain": [
       "IOStream(<file ReadOnlyFile.txt>)"
      ]
     },
     "execution_count": 30,
     "metadata": {},
     "output_type": "execute_result"
    }
   ],
   "source": [
    "seek(f2,0)#将指针调回文件开头"
   ]
  },
  {
   "cell_type": "code",
   "execution_count": 31,
   "id": "69dc7cca",
   "metadata": {},
   "outputs": [
    {
     "data": {
      "text/plain": [
       "\"This is a readonly file\\nThis is the second line\\nThis is the third line\\nThis is the end\\nBy richard\""
      ]
     },
     "execution_count": 31,
     "metadata": {},
     "output_type": "execute_result"
    }
   ],
   "source": [
    "read(f2,String)"
   ]
  },
  {
   "cell_type": "code",
   "execution_count": 32,
   "id": "9a0ebc2e",
   "metadata": {},
   "outputs": [
    {
     "data": {
      "text/plain": [
       "\"This is a readonly file\""
      ]
     },
     "execution_count": 32,
     "metadata": {},
     "output_type": "execute_result"
    }
   ],
   "source": [
    "seek(f2,0)\n",
    "line1 = readline(f2)"
   ]
  },
  {
   "cell_type": "code",
   "execution_count": 33,
   "id": "16597331",
   "metadata": {},
   "outputs": [
    {
     "data": {
      "text/plain": [
       "4-element Vector{String}:\n",
       " \"This is the second line\"\n",
       " \"This is the third line\"\n",
       " \"This is the end\"\n",
       " \"By richard\""
      ]
     },
     "execution_count": 33,
     "metadata": {},
     "output_type": "execute_result"
    }
   ],
   "source": [
    "lines = readlines(f2)"
   ]
  },
  {
   "cell_type": "code",
   "execution_count": 34,
   "id": "3513b7aa",
   "metadata": {},
   "outputs": [],
   "source": [
    "f3 = open(\"DataFile2.txt\",\"w\")\n",
    "DataMat = rand(20,20)\n",
    "write(f3,DataMat)\n",
    "close(f3)"
   ]
  },
  {
   "cell_type": "code",
   "execution_count": 37,
   "id": "af90ca15",
   "metadata": {},
   "outputs": [
    {
     "data": {
      "text/plain": [
       "0.5997320829067088"
      ]
     },
     "execution_count": 37,
     "metadata": {},
     "output_type": "execute_result"
    }
   ],
   "source": [
    "f3 = open(\"DataFile2.txt\",\"r\")\n",
    "read(f3,Float64)"
   ]
  },
  {
   "cell_type": "code",
   "execution_count": 62,
   "id": "378652d5",
   "metadata": {},
   "outputs": [
    {
     "data": {
      "text/plain": [
       "IOStream(<file DataFile2.txt>)"
      ]
     },
     "execution_count": 62,
     "metadata": {},
     "output_type": "execute_result"
    }
   ],
   "source": [
    "seek(f3,0)"
   ]
  },
  {
   "cell_type": "markdown",
   "id": "694ad999",
   "metadata": {},
   "source": [
    "eof(IOStream)->bool <br>\n",
    "测试被读取文件是否已经到了文件结尾"
   ]
  },
  {
   "cell_type": "code",
   "execution_count": 66,
   "id": "38acb619",
   "metadata": {},
   "outputs": [],
   "source": [
    "savemat = Array{Float64}([])\n",
    "a = 0.0\n",
    "while !eof(f3)\n",
    "    a = read(f3,Float64)\n",
    "    savemat = [savemat;a]\n",
    "end"
   ]
  },
  {
   "cell_type": "code",
   "execution_count": 67,
   "id": "acf57c3e",
   "metadata": {},
   "outputs": [
    {
     "data": {
      "text/plain": [
       "IOStream(<file DataFile2.txt>)"
      ]
     },
     "execution_count": 67,
     "metadata": {},
     "output_type": "execute_result"
    }
   ],
   "source": [
    "seek(f3,0)"
   ]
  },
  {
   "cell_type": "code",
   "execution_count": 69,
   "id": "fb3c66cf",
   "metadata": {},
   "outputs": [],
   "source": [
    "reshape(savemat,(20,20));"
   ]
  },
  {
   "cell_type": "markdown",
   "id": "678b3a50",
   "metadata": {},
   "source": [
    "# 格式化数据的读写\n",
    "导入DelimitedFiles读写csv文件"
   ]
  },
  {
   "cell_type": "code",
   "execution_count": 70,
   "id": "fdab30bf",
   "metadata": {},
   "outputs": [],
   "source": [
    "using DelimitedFiles"
   ]
  },
  {
   "cell_type": "code",
   "execution_count": 80,
   "id": "146b0172",
   "metadata": {},
   "outputs": [],
   "source": [
    "DataMat2 = rand(80,80)\n",
    "writedlm(\"DataFile3.csv\",DataMat2,',') #其中','为数据分隔符，也可为其他分隔符"
   ]
  },
  {
   "cell_type": "code",
   "execution_count": 81,
   "id": "e2f23b0c",
   "metadata": {},
   "outputs": [],
   "source": [
    "ReadMat= readdlm(\"DataFile3.csv\",','); #读取csv文件，一定要用单引号"
   ]
  },
  {
   "cell_type": "code",
   "execution_count": 82,
   "id": "6365d90d",
   "metadata": {},
   "outputs": [
    {
     "data": {
      "text/plain": [
       "80×80 Matrix{Float64}:\n",
       " 0.51592    0.525519    0.711358   …  0.917419  0.395118   0.00769732\n",
       " 0.667156   0.189784    0.977244      0.363485  0.365764   0.758798\n",
       " 0.628234   0.386695    0.929236      0.365486  0.238505   0.395716\n",
       " 0.546093   0.373102    0.72092       0.841238  0.385565   0.772162\n",
       " 0.789315   0.24186     0.505922      0.799809  0.930513   0.623468\n",
       " 0.860318   0.97204     0.115163   …  0.254347  0.0710708  0.373558\n",
       " 0.858346   0.966476    0.0748967     0.205356  0.783393   0.857401\n",
       " 0.263902   0.187836    0.996199      0.685145  0.117954   0.622951\n",
       " 0.644759   0.859294    0.505863      0.871412  0.632672   0.150365\n",
       " 0.318903   0.967203    0.470005      0.495263  0.945102   0.578761\n",
       " 0.504708   0.872888    0.0702054  …  0.69495   0.265893   0.677522\n",
       " 0.430135   0.190807    0.384018      0.587962  0.715926   0.517855\n",
       " 0.0428563  0.948449    0.392163      0.77615   0.880455   0.930916\n",
       " ⋮                                 ⋱                       \n",
       " 0.241319   0.0577423   0.792055      0.698136  0.384219   0.509233\n",
       " 0.631662   0.676565    0.199334      0.984422  0.937302   0.0178917\n",
       " 0.135503   0.945893    0.130609   …  0.274324  0.648781   0.257137\n",
       " 0.947032   0.615974    0.280909      0.608527  0.260458   0.771842\n",
       " 0.164491   0.384603    0.209761      0.907803  0.613256   0.795504\n",
       " 0.813105   0.121392    0.392398      0.225624  0.704319   0.158347\n",
       " 0.908763   0.995379    0.997666      0.977425  0.33648    0.21934\n",
       " 0.129595   0.00498356  0.468998   …  0.830743  0.349266   0.521891\n",
       " 0.977261   0.651307    0.964067      0.396759  0.502662   0.239015\n",
       " 0.966093   0.300049    0.473693      0.739138  0.387368   0.530237\n",
       " 0.583204   0.244441    0.765705      0.715795  0.754041   0.00111648\n",
       " 0.58722    0.81174     0.972522      0.147276  0.0192924  0.0189193"
      ]
     },
     "execution_count": 82,
     "metadata": {},
     "output_type": "execute_result"
    }
   ],
   "source": [
    "ReadMat"
   ]
  },
  {
   "cell_type": "markdown",
   "id": "6611aae6",
   "metadata": {},
   "source": [
    "## 读写Matlab中的mat文件\n",
    "利用MAT.jl库<br>\n",
    "无法直接使用write函数<br>\n",
    "All files are written in MATLAB v7.3 format."
   ]
  },
  {
   "cell_type": "code",
   "execution_count": 83,
   "id": "6c17d657",
   "metadata": {},
   "outputs": [],
   "source": [
    "using MAT"
   ]
  },
  {
   "cell_type": "markdown",
   "id": "d066588f",
   "metadata": {},
   "source": [
    "向mat文件中写入数据"
   ]
  },
  {
   "cell_type": "code",
   "execution_count": 96,
   "id": "a24e86b6",
   "metadata": {},
   "outputs": [],
   "source": [
    "DataMat = rand(10)\n",
    "matwrite(\"DataFile4.mat\",Dict(\"AppendixRand\"=>DataMat))"
   ]
  },
  {
   "cell_type": "markdown",
   "id": "4e100ada",
   "metadata": {},
   "source": [
    "读取mat文件中的数据"
   ]
  },
  {
   "cell_type": "code",
   "execution_count": 90,
   "id": "721c00f6",
   "metadata": {},
   "outputs": [
    {
     "data": {
      "text/plain": [
       "Dict{String, Any} with 24 entries:\n",
       "  \"currentPsi1\"           => [-1.81191e-65 -1.91238e-65 … 1.91238e-65 1.81191e-…\n",
       "  \"fx\"                    => 0.1\n",
       "  \"evolveLoops\"           => 2000\n",
       "  \"fileName\"              => \"DDD_8\"\n",
       "  \"mu\"                    => 191.577\n",
       "  \"currentPsi0\"           => [-2.56243e-65 -2.70452e-65 … 2.70452e-65 2.56243e-…\n",
       "  \"Vtrap\"                 => [450.0 449.561 … 449.561 450.0]\n",
       "  \"gradFlowMaxstep\"       => 10000\n",
       "  \"Lx\"                    => 30\n",
       "  \"isShowGraph\"           => 1\n",
       "  \"lambda\"                => 0.0\n",
       "  \"timeStepPerEvolveData\" => 0.01\n",
       "  \"gs\"                    => -0.005\n",
       "  \"q\"                     => 0.0\n",
       "  \"gn\"                    => 0.01\n",
       "  \"Nx\"                    => 4096\n",
       "  \"gradFlowDisplayStep\"   => 200\n",
       "  \"evolveDataGap\"         => 1\n",
       "  \"isSaveData\"            => 1\n",
       "  \"resid\"                 => 5.0e-8\n",
       "  \"timeStepAccurance\"     => 1.0e-5\n",
       "  \"gradFlowTstep\"         => 0.002\n",
       "  \"savePath\"              => \"/home/richard/Code/Second_semester/reContructedBE…\n",
       "  \"p\"                     => 0"
      ]
     },
     "execution_count": 90,
     "metadata": {},
     "output_type": "execute_result"
    }
   ],
   "source": [
    "vars = matread(\"DataFile4.mat\") #直接读取mat文件中的变量"
   ]
  },
  {
   "cell_type": "code",
   "execution_count": 91,
   "id": "581b64ea",
   "metadata": {},
   "outputs": [
    {
     "data": {
      "text/plain": [
       "191.577358098"
      ]
     },
     "execution_count": 91,
     "metadata": {},
     "output_type": "execute_result"
    }
   ],
   "source": [
    "vars[\"mu\"]"
   ]
  },
  {
   "cell_type": "code",
   "execution_count": null,
   "id": "12fe1f45",
   "metadata": {},
   "outputs": [],
   "source": []
  }
 ],
 "metadata": {
  "kernelspec": {
   "display_name": "Julia 1.7.0-rc1",
   "language": "julia",
   "name": "julia-1.7"
  },
  "language_info": {
   "file_extension": ".jl",
   "mimetype": "application/julia",
   "name": "julia",
   "version": "1.7.0"
  }
 },
 "nbformat": 4,
 "nbformat_minor": 5
}
