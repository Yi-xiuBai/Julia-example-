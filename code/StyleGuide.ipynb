{
 "cells": [
  {
   "cell_type": "markdown",
   "id": "3a1f23c7",
   "metadata": {},
   "source": [
    "# 代码风格建议（来自文档）\n",
    "（仅作为在众多不同设计方案之中的其中一种的建议）\n",
    "## 1 使用缩进，四个空格（官方推荐）/一个tab"
   ]
  },
  {
   "cell_type": "code",
   "execution_count": 3,
   "id": "dcf495eb",
   "metadata": {},
   "outputs": [],
   "source": [
    "#无缩进函数定义\n",
    "function evolution_H(H_mat,psi;dt = 0.0001,times=1)\n",
    "for i =1:times\n",
    "k1 = - 1im* (H_mat*psi)\n",
    "k2 = - 1im* (H_mat*(psi+0.5*dt*k1))\n",
    "k3 = - 1im* (H_mat*(psi+0.5*dt*k2))\n",
    "k4 = - 1im* (H_mat*(psi+dt*k3))\n",
    "Slope = (k1+2*k2+2*k3+k4)/6\n",
    "psi = psi + dt*Slope\n",
    "end\n",
    "psi\n",
    "end;"
   ]
  },
  {
   "cell_type": "code",
   "execution_count": 4,
   "id": "a272f8f7",
   "metadata": {},
   "outputs": [],
   "source": [
    "#有缩进的函数定义。凸显函数定义内部的结构\n",
    "function evolution_H(H_mat,psi;dt = 0.0001,times=1)\n",
    "    for i =1:times\n",
    "        k1 = - 1im* (H_mat*psi)\n",
    "        k2 = - 1im* (H_mat*(psi+0.5*dt*k1))\n",
    "        k3 = - 1im* (H_mat*(psi+0.5*dt*k2))\n",
    "        k4 = - 1im* (H_mat*(psi+dt*k3))\n",
    "        Slope = (k1+2*k2+2*k3+k4)/6\n",
    "        psi = psi + dt*Slope\n",
    "    end\n",
    "    psi\n",
    "end;"
   ]
  },
  {
   "cell_type": "markdown",
   "id": "3e2e2dc3",
   "metadata": {},
   "source": [
    "# 2.函数化编程，将你想完成的任务打包为函数而不是展开为代码\n",
    "推荐风格：<br>\n",
    "**function f1()<br> \n",
    "end**<p>\n",
    "\n",
    "\n",
    "**function f2()<br>\n",
    "end<br>\n",
    "<br>\n",
    "function f3()<br>\n",
    "end<br>\n",
    "<br>\n",
    "define your variables<br>\n",
    "<br>\n",
    "<br>\n",
    "f1()<br>\n",
    "f2()<br>\n",
    "f3()**<br>\n",
    "<br>\n",
    "不建议的风格：<br>\n",
    "<br>\n",
    "**define your variable<br>\n",
    "<br>\n",
    "script1<br>\n",
    "script2<br>\n",
    "script3 ....**<br>\n",
    "<br>\n",
    "<br>"
   ]
  },
  {
   "cell_type": "markdown",
   "id": "dc16f857",
   "metadata": {},
   "source": [
    "## 函数应该处理接收的参数，而不应该直接处理全局变量\n",
    "<br>\n",
    "推荐风格<br>\n",
    "function(var1,var2)<br>\n",
    "    process...<br>\n",
    "end<br>\n",
    "<br>\n",
    "<br>\n",
    "不建议的风格<br>\n",
    "var1 = ..<br>\n",
    "var2 = ..<br>\n",
    "function()<br>\n",
    "   process..var1<br>\n",
    "   process..var2<br>\n",
    "end<br>"
   ]
  },
  {
   "cell_type": "code",
   "execution_count": null,
   "id": "09733af5",
   "metadata": {},
   "outputs": [],
   "source": []
  }
 ],
 "metadata": {
  "kernelspec": {
   "display_name": "Julia 1.7.0-rc1",
   "language": "julia",
   "name": "julia-1.7"
  },
  "language_info": {
   "file_extension": ".jl",
   "mimetype": "application/julia",
   "name": "julia",
   "version": "1.7.0"
  }
 },
 "nbformat": 4,
 "nbformat_minor": 5
}
